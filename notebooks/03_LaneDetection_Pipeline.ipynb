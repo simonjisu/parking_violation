{
 "cells": [
  {
   "cell_type": "code",
   "execution_count": 1,
   "metadata": {},
   "outputs": [],
   "source": [
    "import pickle\n",
    "import sys\n",
    "import cv2\n",
    "import time\n",
    "import numpy as np\n",
    "import ffmpeg\n",
    "from pathlib import Path\n",
    "\n",
    "from moviepy.editor import VideoFileClip\n",
    "from IPython.display import HTML\n",
    "\n",
    "repo_path = Path(\".\").absolute().parent\n",
    "data_path = Path(\".\") / \"videos\"\n",
    "    \n",
    "sys.path.append(str(repo_path))\n",
    "\n",
    "from lanedetection import BirdsEye, LaneFilter, Curves, roi, get_points, resize_image"
   ]
  },
  {
   "cell_type": "code",
   "execution_count": 2,
   "metadata": {},
   "outputs": [],
   "source": [
    "class PipeLine:\n",
    "    def __init__(self, params):\n",
    "        r\"\"\"\n",
    "        width: width of image\n",
    "        height: height of image\n",
    "        cali_path: calibration path (should be preprocessed by chessboard.py)\n",
    "        src_ratio: points to detect line (with ratio from 0~1) \n",
    "        dest_ratio: points to transform (with ratio from 0~1)\n",
    "        lanefilter: params dictionary for LaneFilter\n",
    "        curves: params dictionary for Curves\n",
    "        \"\"\"\n",
    "        self.w, self.h = params[\"width\"], params[\"height\"]\n",
    "        self.calibration_data = pickle.load(open(params[\"cali_path\"], \"rb\"))\n",
    "        self.src_ratio = params[\"src_ratio\"]\n",
    "        self.dest_ratio = params[\"dest_ratio\"]\n",
    "\n",
    "        matrix = self.calibration_data['camera_matrix']\n",
    "        distortion_coef = self.calibration_data['distortion_coefficient']\n",
    "        source_points = get_points(self.src_ratio, self.w, self.h)\n",
    "        dest_points = get_points(self.dest_ratio, self.w, self.h)\n",
    "        \n",
    "        self.birdseye = BirdsEye(source_points, dest_points, matrix, distortion_coef)\n",
    "        self.lanefilter = LaneFilter(params['lanefilter'])\n",
    "        self.curves = Curves(params['curves'])\n",
    "        \n",
    "    def process(self, frame):\n",
    "        frame = resize_image(frame, self.w, self.h)\n",
    "        ground_img = self.birdseye.undistort(frame)\n",
    "        binary = self.lanefilter.apply(ground_img)\n",
    "        bird_mask = np.logical_and(self.birdseye.sky_view(binary), roi(binary)).astype(np.uint8)\n",
    "        bird_ground_img = self.birdseye.sky_view(ground_img)\n",
    "        bird_img = cv2.bitwise_and(bird_ground_img, bird_ground_img, mask=bird_mask)\n",
    "\n",
    "        result = self.curves.fit(bird_mask, bird_img)\n",
    "\n",
    "        ground_img_with_projection = self.birdseye.project(ground_img, binary, \n",
    "                                                    result['pixel_left_best_fit_curve'], \n",
    "                                                    result['pixel_right_best_fit_curve'], \n",
    "                                                    result['left_color'][1], \n",
    "                                                    result['right_color'][1])\n",
    "        text_pos = f\"vehicle position: {result['vehicle_position_words']}\"\n",
    "        text_l = f\"left radius: {np.round(result['left_radius'], 2)} | color: {result['left_color'][0]}\"\n",
    "        text_r = f\"right radius: {np.round(result['right_radius'], 2)} | color {result['right_color'][0]}\"  \n",
    "        text_color = (255, 255, 255)\n",
    "        cv2.putText(ground_img_with_projection, text_l, (20, 40), \n",
    "                    cv2.FONT_HERSHEY_PLAIN, 1, text_color, 2)\n",
    "        cv2.putText(ground_img_with_projection, text_r, (20, 60), \n",
    "                    cv2.FONT_HERSHEY_PLAIN, 1, text_color, 2)\n",
    "        cv2.putText(ground_img_with_projection, text_pos, (20, 80), \n",
    "                    cv2.FONT_HERSHEY_PLAIN, 1, text_color, 2)\n",
    "        \n",
    "        return ground_img_with_projection"
   ]
  },
  {
   "cell_type": "code",
   "execution_count": 9,
   "metadata": {},
   "outputs": [],
   "source": [
    "params = {\n",
    "    'width': 640,\n",
    "    'height': 480,\n",
    "    'cali_path': \"calibration_data.p\",\n",
    "    'src_ratio': [(0.35, 0.55), (0.0, 1.0), (0.70, 0.55), (0.9, 1.0)],\n",
    "    'dest_ratio': [(0.25, 0.0), (0.25, 1.0), (0.75, 0.0), (0.75, 1.0)],\n",
    "    # to LaneFilter\n",
    "    'lanefilter' :{\n",
    "        'sat_thresh': 120,\n",
    "        'light_thresh': 40,\n",
    "        'light_thresh_agr': 205,\n",
    "        'grad_thresh': (0.7, 1.4),\n",
    "        'mag_thresh': 40,\n",
    "        'x_thresh': 20\n",
    "    },\n",
    "    # to curves\n",
    "    'curves': {\n",
    "        'number_of_windows': 9,\n",
    "        'margin': 50,\n",
    "        'minimum_pixels': 50,\n",
    "        'ym_per_pix': 30 / 720,\n",
    "        'xm_per_pix': 3.7 / 700\n",
    "    }\n",
    "}\n",
    "\n",
    "pipeline = PipeLine(params)"
   ]
  },
  {
   "cell_type": "code",
   "execution_count": 10,
   "metadata": {},
   "outputs": [
    {
     "name": "stderr",
     "output_type": "stream",
     "text": [
      "\r",
      "t:   0%|                                                                             | 0/618 [00:00<?, ?it/s, now=None]"
     ]
    },
    {
     "name": "stdout",
     "output_type": "stream",
     "text": [
      "Moviepy - Building video videos\\video_output.mp4.\n",
      "Moviepy - Writing video videos\\video_output.mp4\n",
      "\n"
     ]
    },
    {
     "name": "stderr",
     "output_type": "stream",
     "text": [
      "                                                                                                                       \r"
     ]
    },
    {
     "name": "stdout",
     "output_type": "stream",
     "text": [
      "Moviepy - Done !\n",
      "Moviepy - video ready videos\\video_output.mp4\n",
      "Wall time: 42.8 s\n"
     ]
    }
   ],
   "source": [
    "video_path = str(data_path / \"sample_video1.mp4\")\n",
    "output_path = str(data_path / \"video_output.mp4\")\n",
    "clip1 = VideoFileClip(video_path);\n",
    "white_clip = clip1.fl_image(pipeline.process) \n",
    "%time white_clip.write_videofile(output_path, audio = False);"
   ]
  },
  {
   "cell_type": "code",
   "execution_count": 11,
   "metadata": {},
   "outputs": [
    {
     "data": {
      "text/html": [
       "\n",
       "<video width=\"640\" height=\"480\" controls>\n",
       "  <source src=\"videos\\video_output.mp4\">\n",
       "</video>\n"
      ],
      "text/plain": [
       "<IPython.core.display.HTML object>"
      ]
     },
     "execution_count": 11,
     "metadata": {},
     "output_type": "execute_result"
    }
   ],
   "source": [
    "HTML(\"\"\"\n",
    "<video width=\"640\" height=\"480\" controls>\n",
    "  <source src=\"{0}\">\n",
    "</video>\n",
    "\"\"\".format(output_path))"
   ]
  }
 ],
 "metadata": {
  "kernelspec": {
   "display_name": "Python 3",
   "language": "python",
   "name": "python3"
  },
  "language_info": {
   "codemirror_mode": {
    "name": "ipython",
    "version": 3
   },
   "file_extension": ".py",
   "mimetype": "text/x-python",
   "name": "python",
   "nbconvert_exporter": "python",
   "pygments_lexer": "ipython3",
   "version": "3.6.12"
  }
 },
 "nbformat": 4,
 "nbformat_minor": 4
}
