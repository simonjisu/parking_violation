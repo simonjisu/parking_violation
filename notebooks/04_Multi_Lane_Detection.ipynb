{
 "cells": [
  {
   "cell_type": "markdown",
   "metadata": {},
   "source": [
    "## Problem:\n",
    "\n",
    "- In out problem, need to detect the nearest pedestrian road to see if the car is violating or not \n",
    "- need to know which part is the pedestrian road and which part is the car road  "
   ]
  },
  {
   "cell_type": "code",
   "execution_count": 1,
   "metadata": {},
   "outputs": [],
   "source": [
    "import sys\n",
    "import cv2\n",
    "import time\n",
    "import torch\n",
    "import numpy as np\n",
    "import ffmpeg\n",
    "import matplotlib.pyplot as plt\n",
    "from pathlib import Path\n",
    "\n",
    "repo_path = Path(\".\").absolute().parent\n",
    "data_path = Path(\"D:\\Datas\\parking_violation\")\n",
    "# pkg_path = repo_path.parent / \"PINet_new\"\n",
    "sys.path.append(str(repo_path))\n",
    "# sys.path.append(str(pkg_path))"
   ]
  },
  {
   "cell_type": "code",
   "execution_count": 2,
   "metadata": {},
   "outputs": [],
   "source": [
    "from resnest.torch import resnest50\n",
    "net = resnest50(pretrained=True)"
   ]
  },
  {
   "cell_type": "markdown",
   "metadata": {},
   "source": [
    "```\n",
    "pip install resnest\n",
    "pip install git+https://github.com/zhanghang1989/PyTorch-Encoding/\n",
    "```"
   ]
  },
  {
   "cell_type": "code",
   "execution_count": null,
   "metadata": {},
   "outputs": [],
   "source": []
  },
  {
   "cell_type": "code",
   "execution_count": null,
   "metadata": {},
   "outputs": [],
   "source": []
  },
  {
   "cell_type": "code",
   "execution_count": null,
   "metadata": {},
   "outputs": [],
   "source": [
    "cap = cv2.VideoCapture(\"D:\\Datas\\parking_violation/sample2.mp4\")\n",
    "while(cap.isOpened()):\n",
    "    ret, frame = cap.read()\n",
    "    torch.cuda.synchronize()\n",
    "    prevTime = time.time()\n",
    "    frame = cv2.resize(frame, (512,256))/255.0\n",
    "    frame = np.rollaxis(frame, axis=2, start=0)\n",
    "    _, _, ti = test(lane_agent, np.array([frame])) \n",
    "    curTime = time.time()\n",
    "    sec = curTime - prevTime\n",
    "    fps = 1/(sec)\n",
    "    s = \"FPS : \"+ str(fps)\n",
    "    ti[0] = cv2.resize(ti[0], (1280,800))\n",
    "    cv2.putText(ti[0], s, (0, 100), cv2.FONT_HERSHEY_SIMPLEX, 1, (0, 255, 0))\n",
    "    cv2.imshow('frame', ti[0])\n",
    "    if cv2.waitKey(1) & 0xFF == ord('q'):\n",
    "        break\n",
    "cap.release()\n",
    "cv2.destroyAllWindows()"
   ]
  },
  {
   "cell_type": "code",
   "execution_count": null,
   "metadata": {},
   "outputs": [],
   "source": [
    "img = (images[0].cpu().permute(1, 2, 0).numpy() * 255).astype(np.uint8)\n",
    "img, fp, fn = dataloader.dataset.draw_annotation(idx, img=img, pred=prediction[0])\n",
    "if self.view == 'mistakes' and fp == 0 and fn == 0:\n",
    "    continue\n",
    "cv2.imshow('pred', img)\n",
    "cv2.waitKey(0)"
   ]
  }
 ],
 "metadata": {
  "kernelspec": {
   "display_name": "Python 3",
   "language": "python",
   "name": "python3"
  },
  "language_info": {
   "codemirror_mode": {
    "name": "ipython",
    "version": 3
   },
   "file_extension": ".py",
   "mimetype": "text/x-python",
   "name": "python",
   "nbconvert_exporter": "python",
   "pygments_lexer": "ipython3",
   "version": "3.6.12"
  }
 },
 "nbformat": 4,
 "nbformat_minor": 4
}
