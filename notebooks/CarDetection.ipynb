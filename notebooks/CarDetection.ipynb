{
 "cells": [
  {
   "cell_type": "code",
   "execution_count": 1,
   "metadata": {},
   "outputs": [],
   "source": [
    "from tqdm.notebook import tqdm_notebook\n",
    "\n",
    "import matplotlib\n",
    "import matplotlib.pyplot as plt\n",
    "\n",
    "import cv2\n",
    "import os\n",
    "from pathlib import Path\n",
    "from scipy import io as spio\n",
    "import numpy as np\n",
    "\n",
    "import tensorflow as tf\n",
    "\n",
    "from object_detection.utils import label_map_util\n",
    "from object_detection.utils import config_util\n",
    "from object_detection.utils import visualization_utils as viz_utils\n",
    "from object_detection.builders import model_builder\n",
    "\n",
    "%matplotlib inline"
   ]
  },
  {
   "cell_type": "code",
   "execution_count": 2,
   "metadata": {},
   "outputs": [],
   "source": [
    "if os.name == 'nt':\n",
    "    repo_path = Path(\".\").absolute().parent\n",
    "    data_path = Path(\"D:/Datas/\") / \"cardataset\"\n",
    "else:    \n",
    "    repo_path = Path(\".\").absolute().parent\n",
    "    data_path = repo_path.parent / \"data\" / \"cardataset\""
   ]
  },
  {
   "cell_type": "code",
   "execution_count": 3,
   "metadata": {},
   "outputs": [],
   "source": [
    "mat_file = spio.loadmat(data_path / \"cars_annos.mat\")\n",
    "annotations = mat_file[\"annotations\"].reshape(-1)\n",
    "\n",
    "*_, cls, _ = list(zip(*annotations))\n",
    "cls_array = np.array(cls).reshape(-1)"
   ]
  },
  {
   "cell_type": "code",
   "execution_count": 4,
   "metadata": {},
   "outputs": [
    {
     "data": {
      "image/png": "[encoded data removed]",
      "text/plain": [
       "<Figure size 432x288 with 1 Axes>"
      ]
     },
     "metadata": {
      "needs_background": "light"
     },
     "output_type": "display_data"
    }
   ],
   "source": [
    "n_cars = len(np.unique(cls_array))\n",
    "\n",
    "plt.hist(cls_array, bins=n_cars)\n",
    "plt.title(f\"Distributions of {n_cars} cars\")\n",
    "plt.show()"
   ]
  },
  {
   "cell_type": "code",
   "execution_count": 78,
   "metadata": {},
   "outputs": [
    {
     "data": {
      "application/vnd.jupyter.widget-view+json": {
       "model_id": "724f756f180047bbbc85f9b9a5a90623",
       "version_major": 2,
       "version_minor": 0
      },
      "text/plain": [
       "HBox(children=(FloatProgress(value=0.0, max=16185.0), HTML(value='')))"
      ]
     },
     "metadata": {},
     "output_type": "display_data"
    },
    {
     "name": "stdout",
     "output_type": "stream",
     "text": [
      "\n"
     ]
    }
   ],
   "source": [
    "def collect_preprocessing(annotations):     \n",
    "    # when plotting need: x_min, y_min, x_max, y_max -> y_min, x_min, y_max, x_max\n",
    "\n",
    "    df = [[\"img_path\", \"width\", \"height\", \"class\", \"xmin\", \"ymin\", \"xmax\", \"ymax\"]]\n",
    "    for i, line in tqdm_notebook(enumerate(annotations, 1), total=len(annotations)):\n",
    "        img_path, xmin, ymin, xmax, ymax, cls, _ = map(lambda x: list(x)[0], line)\n",
    "    \n",
    "        image = cv2.imread(str(data_path / img_path))\n",
    "        height, width, _ = image.shape\n",
    "        \n",
    "        df.append([img_path, width, height, int(cls), int(xmin), int(ymin), int(xmax), int(ymax)])\n",
    "    return df\n",
    "\n",
    "\n",
    "annotations_clean = np.array(\n",
    "    collect_preprocessing(annotations)\n",
    ")\n",
    "\n",
    "with (data_path / \"car_ims_labels.csv\").open(\"w\") as file:\n",
    "    np.savetxt(file, annotations_clean, fmt=\"%s\",delimiter=\",\")"
   ]
  },
  {
   "cell_type": "markdown",
   "metadata": {},
   "source": [
    "split 10% of each class"
   ]
  },
  {
   "cell_type": "code",
   "execution_count": 305,
   "metadata": {},
   "outputs": [],
   "source": [
    "ratio = 0.1\n",
    "_, counts = np.unique(cls_array, return_counts=True)\n",
    "test_numbers = (counts * ratio).astype(np.int8)\n",
    "\n",
    "test_indices = []\n",
    "count_idx = 0\n",
    "for total, num in zip(counts, test_numbers):\n",
    "    idx = np.random.choice(np.arange(count_idx, count_idx+total), size=(num,), replace=False)\n",
    "    test_indices.extend(idx.tolist())\n",
    "    count_idx += total\n",
    "    \n",
    "test_indices = np.array(test_indices)\n",
    "test_indices.sort()\n",
    "train_indices = np.arange(counts.sum())[~np.isin(np.arange(counts.sum()), test_indices)]\n",
    "\n",
    "train_dataset = annotations_clean[1:][train_indices]\n",
    "test_dataset = annotations_clean[1:][test_indices]\n",
    "\n",
    "with (data_path / \"car_ims_train_labels.csv\").open(\"w\", encoding=\"utf-8\") as file:\n",
    "    np.savetxt(file, train_dataset, fmt=\"%s\",delimiter=\",\")\n",
    "\n",
    "with (data_path / \"car_ims_train_labels.csv\").open(\"w\", encoding=\"utf-8\") as file:\n",
    "    np.savetxt(file, test_dataset, fmt=\"%s\",delimiter=\",\")"
   ]
  },
  {
   "cell_type": "markdown",
   "metadata": {},
   "source": [
    "create category index and dictionary"
   ]
  },
  {
   "cell_type": "code",
   "execution_count": 5,
   "metadata": {},
   "outputs": [],
   "source": [
    "class_names = mat_file[\"class_names\"].reshape(-1)\n",
    "# class_names = list(map(lambda x: list(x)[0], class_names))\n",
    "# class_names.insert(0, \"__background__\")\n",
    "\n",
    "category_index = {i: {\"id\": i, \"name\": list(x)[0]} for i, x in enumerate(class_names, 1)}\n",
    "cate_dicts = {v[\"id\"]: v[\"name\"] for v in category_index.values()}"
   ]
  },
  {
   "cell_type": "code",
   "execution_count": 6,
   "metadata": {},
   "outputs": [],
   "source": [
    "from object_detection.protos.string_int_label_map_pb2 import StringIntLabelMap, StringIntLabelMapItem\n",
    "from google.protobuf import text_format\n",
    "\n",
    "def convert_classes(classes, start=1):\n",
    "    msg = StringIntLabelMap()\n",
    "    for i, name in enumerate(classes, start=start):\n",
    "        msg.item.append(StringIntLabelMapItem(id=i, name=name))\n",
    "\n",
    "    text = str(text_format.MessageToBytes(msg, as_utf8=True), \"utf-8\")\n",
    "    return text"
   ]
  },
  {
   "cell_type": "code",
   "execution_count": 7,
   "metadata": {},
   "outputs": [],
   "source": [
    "label_map_path = data_path / \"label_map.pbtxt\"\n",
    "labels = list(cate_dicts.values())\n",
    "txt = convert_classes(labels)\n",
    "with label_map_path.open(\"w\") as file:\n",
    "    file.write(txt)"
   ]
  },
  {
   "cell_type": "markdown",
   "metadata": {},
   "source": [
    "convert it to tfrecord form"
   ]
  },
  {
   "cell_type": "code",
   "execution_count": 8,
   "metadata": {},
   "outputs": [],
   "source": [
    "def create_tf_example(annotation, cate_dicts, data_path):\n",
    "    \"\"\"\n",
    "    only single object in the image so didn't use group\n",
    "    \"\"\"\n",
    "    img_path = annotation[0]\n",
    "    width, height, cls, xmin, ymin, xmax, ymax = map(int, annotation[1:]) \n",
    "    filename = bytes(img_path.split(\"/\")[-1], encoding=\"utf-8\")\n",
    "    encoded_img = tf.io.gfile.GFile(str(data_path / img_path), \"rb\").read()\n",
    "    \n",
    "    image_format = b\"jpg\"\n",
    "    xmins = [xmin/width]\n",
    "    xmaxs = [xmax/width]\n",
    "    ymins = [ymin/height]\n",
    "    ymaxs = [ymax/height]\n",
    "    classes_text = [bytes(cate_dicts[cls], encoding=\"utf-8\")]\n",
    "    classes = [cls]\n",
    "\n",
    "    feature={\n",
    "        \"image/height\": dataset_util.int64_feature(height),\n",
    "        \"image/width\": dataset_util.int64_feature(width),\n",
    "        \"image/filename\": dataset_util.bytes_feature(filename),\n",
    "        \"image/source_id\": dataset_util.bytes_feature(filename),\n",
    "        \"image/encoded\": dataset_util.bytes_feature(encoded_img),\n",
    "        \"image/format\": dataset_util.bytes_feature(image_format),\n",
    "        \"image/object/bbox/xmin\": dataset_util.float_list_feature(xmins),\n",
    "        \"image/object/bbox/xmax\": dataset_util.float_list_feature(xmaxs),\n",
    "        \"image/object/bbox/ymin\": dataset_util.float_list_feature(ymins),\n",
    "        \"image/object/bbox/ymax\": dataset_util.float_list_feature(ymaxs),\n",
    "        \"image/object/class/text\": dataset_util.bytes_list_feature(classes_text),\n",
    "        \"image/object/class/label\": dataset_util.int64_list_feature(classes),\n",
    "    }\n",
    "    tf_example = tf.train.Example(features=tf.train.Features(feature=feature))\n",
    "    return tf_example"
   ]
  },
  {
   "cell_type": "code",
   "execution_count": 9,
   "metadata": {},
   "outputs": [],
   "source": [
    "def create_tfrecode(data_path, cate_dicts, dataset_csv, outputfile):\n",
    "    tf_writer = tf.io.TFRecordWriter(str(data_path / outputfile))\n",
    "    for annotation in dataset_csv:\n",
    "        tf_example = create_tf_example(annotation, cate_dicts, data_path)\n",
    "        tf_writer.write(tf_example.SerializeToString())\n",
    "    tf_writer.close()\n",
    "    print(\"Done!\")"
   ]
  },
  {
   "cell_type": "code",
   "execution_count": 310,
   "metadata": {},
   "outputs": [
    {
     "name": "stdout",
     "output_type": "stream",
     "text": [
      "Done!\n",
      "Done!\n"
     ]
    }
   ],
   "source": [
    "create_tfrecode(data_path, cate_dicts, dataset_csv=train_dataset, outputfile=\"train.record\")\n",
    "create_tfrecode(data_path, cate_dicts, dataset_csv=test_dataset, outputfile=\"test.record\")"
   ]
  },
  {
   "cell_type": "markdown",
   "metadata": {},
   "source": [
    "* bbox_x1: Min x-value of the bounding box, in pixels\n",
    "* bbox_x2: Max x-value of the bounding box, in pixels\n",
    "* bbox_y1: Min y-value of the bounding box, in pixels\n",
    "* bbox_y2: Max y-value of the bounding box, in pixels"
   ]
  },
  {
   "cell_type": "markdown",
   "metadata": {},
   "source": [
    "# Training"
   ]
  },
  {
   "cell_type": "code",
   "execution_count": 32,
   "metadata": {},
   "outputs": [],
   "source": [
    "config_name = \"ssd_efficientdet_d0_512x512_coco17_tpu-8.config\"\n",
    "model_name = \"efficientdet_d0_coco17_tpu-32\"\n",
    "\n",
    "pipeline_config = str(repo_path.parent / \"pretrained_model\" / \"configs\" / config_name)\n",
    "checkpoint_path = str(repo_path.parent / \"pretrained_model\" / model_name / \"checkpoint\" / \"ckpt-0\")\n",
    "train_tfrecord_path = str(data_path / \"train.record\")\n",
    "test_tfrecord_path = str(data_path / \"test.record\")\n",
    "label_map_path = str(label_map_path)"
   ]
  },
  {
   "cell_type": "code",
   "execution_count": 27,
   "metadata": {},
   "outputs": [],
   "source": [
    "config_name = \"ssd_resnet50_v1_fpn_640x640_coco17_tpu-8.config\"\n",
    "model_name = \"ssd_resnet50_v1_fpn_640x640_coco17_tpu-8\"\n",
    "\n",
    "pipeline_config = str(repo_path.parent / \"pretrained_model\" / \"configs\" / config_name)\n",
    "checkpoint_path = str(repo_path.parent / \"pretrained_model\" / model_name / \"checkpoint\" / \"ckpt-0\")\n",
    "train_tfrecord_path = str(data_path / \"train.record\")\n",
    "test_tfrecord_path = str(data_path / \"test.record\")\n",
    "label_map_path = str(label_map_path)"
   ]
  },
  {
   "cell_type": "code",
   "execution_count": 45,
   "metadata": {},
   "outputs": [],
   "source": [
    "from google.protobuf import text_format\n",
    "from object_detection.protos import pipeline_pb2\n",
    "\n",
    "batch_size = 4\n",
    "n_epochs = 3000"
   ]
  },
  {
   "cell_type": "markdown",
   "metadata": {},
   "source": [
    "change config"
   ]
  },
  {
   "cell_type": "code",
   "execution_count": 46,
   "metadata": {},
   "outputs": [],
   "source": [
    "def modify_pipline(\n",
    "        old_config_path, \n",
    "        new_config_path, \n",
    "        checkpoint_path, \n",
    "        label_map_path, \n",
    "        train_tfrecord_path, \n",
    "        test_tfrecord_path,\n",
    "        num_classes,\n",
    "        batch_size,\n",
    "        n_epochs\n",
    "    ):\n",
    "    pipeline = pipeline_pb2.TrainEvalPipelineConfig()                                                                                                                                                                                                          \n",
    "    \n",
    "    with tf.io.gfile.GFile(old_config_path, \"r\") as f:                                                                                                                                                                                                                     \n",
    "        proto_str = f.read()                                                                                                                                                                                                                                          \n",
    "        text_format.Merge(proto_str, pipeline)\n",
    "        \n",
    "    pipeline.model.ssd.num_classes = num_classes\n",
    "    pipeline.model.ssd.freeze_batchnorm = True\n",
    "    \n",
    "    pipeline.train_config.fine_tune_checkpoint_type = \"detection\"\n",
    "    pipeline.train_config.use_bfloat16 = False\n",
    "    pipeline.train_config.batch_size = batch_size\n",
    "    pipeline.train_config.num_steps = n_epochs\n",
    "    \n",
    "    pipeline.train_config.fine_tune_checkpoint = checkpoint_path\n",
    "    pipeline.train_input_reader.label_map_path = label_map_path\n",
    "    pipeline.train_input_reader.tf_record_input_reader.input_path[:] = [train_tfrecord_path]\n",
    "    \n",
    "    pipeline.eval_input_reader[0].label_map_path = label_map_path\n",
    "    pipeline.eval_input_reader[0].tf_record_input_reader.input_path[:] = [test_tfrecord_path]\n",
    "    \n",
    "    config_text = text_format.MessageToString(pipeline)\n",
    "    with tf.io.gfile.GFile(new_config_path, \"wb\") as f:                                                                                                                                                                                                                       \n",
    "        f.write(config_text)"
   ]
  },
  {
   "cell_type": "code",
   "execution_count": 47,
   "metadata": {},
   "outputs": [],
   "source": [
    "new_config_folder = repo_path.parent / \"pretrained_model\" / \"mymodel\"\n",
    "if not new_config_folder.exists():\n",
    "    new_config_folder.mkdir()\n",
    "\n",
    "new_config_path = str(new_config_folder / \"ssd_efficientdet_d0_512x512_coco17_custom.config\")\n",
    "#new_config_path = str(new_config_folder / \"ssd_resnet50_v1_fpn_640x640_coco17_custom.config\")"
   ]
  },
  {
   "cell_type": "code",
   "execution_count": 48,
   "metadata": {},
   "outputs": [
    {
     "name": "stdout",
     "output_type": "stream",
     "text": [
      "C:\\Users\\simon\\Desktop\\Codes\\pretrained_model\\mymodel\n",
      "C:\\Users\\simon\\Desktop\\Codes\\pretrained_model\\mymodel\\ssd_efficientdet_d0_512x512_coco17_custom.config\n"
     ]
    }
   ],
   "source": [
    "print(new_config_folder)\n",
    "print(new_config_path)"
   ]
  },
  {
   "cell_type": "code",
   "execution_count": 49,
   "metadata": {},
   "outputs": [],
   "source": [
    "modify_pipline(\n",
    "    old_config_path=pipeline_config, \n",
    "    new_config_path=new_config_path, \n",
    "    checkpoint_path=checkpoint_path, \n",
    "    label_map_path=label_map_path, \n",
    "    train_tfrecord_path=train_tfrecord_path, \n",
    "    test_tfrecord_path=test_tfrecord_path,\n",
    "    num_classes=len(category_index),\n",
    "    batch_size=batch_size,\n",
    "    n_epochs=n_epochs\n",
    ")"
   ]
  },
  {
   "cell_type": "markdown",
   "metadata": {},
   "source": [
    "```\n",
    "python .\\models\\research\\object_detection\\model_main_tf2.py --model_dir=C:\\Users\\simon\\Desktop\\Codes\\pretrained_model\\mymodel --pipeline_config_path=C:\\\\Users\\\\simon\\\\Desktop\\\\Codes\\\\pretrained_model\\\\mymodel\\\\ssd_efficientdet_d0_512x512_coco17_custom.config\n",
    "```\n",
    "```\n",
    "python .\\models\\research\\object_detection\\model_main_tf2.py --model_dir=C:\\Users\\simon\\Desktop\\Codes\\pretrained_model\\mymodel --pipeline_config_path=C:\\\\Users\\\\simon\\\\Desktop\\\\Codes\\\\pretrained_model\\\\mymodel\\\\ssd_resnet50_v1_fpn_640x640_coco17_custom.config\n",
    "```"
   ]
  },
  {
   "cell_type": "code",
   "execution_count": null,
   "metadata": {},
   "outputs": [],
   "source": [
    "tensorboard --logdir=C:\\Users\\simon\\Desktop\\Codes\\pretrained_model\\mymodel\n"
   ]
  },
  {
   "cell_type": "code",
   "execution_count": null,
   "metadata": {},
   "outputs": [],
   "source": [
    "def load_image_into_numpy_array(path):\n",
    "    \"\"\"Load an image from file into a numpy array.\n",
    "\n",
    "    Puts image into numpy array to feed into tensorflow graph.\n",
    "    Note that by convention we put it into a numpy array with shape\n",
    "    (height, width, channels), where channels=3 for RGB.\n",
    "\n",
    "    Args:\n",
    "        path: a file path.\n",
    "\n",
    "    Returns:\n",
    "        uint8 numpy array with shape (img_height, img_width, 3)\n",
    "    \"\"\"\n",
    "    if isinstance(path, Path):\n",
    "        path = str(path)\n",
    "    return cv2.imread(path).astype(np.uint8)\n",
    "#     img_data = tf.io.gfile.GFile(path, 'rb').read()\n",
    "#     image = Image.open(BytesIO(img_data))\n",
    "#     (im_width, im_height) = image.size\n",
    "#     return np.array(image.getdata()).reshape(\n",
    "#         (im_height, im_width, 3)).astype(np.uint8)\n",
    "\n",
    "def plot_detections(image_np,\n",
    "                    boxes,\n",
    "                    classes,\n",
    "                    scores,\n",
    "                    category_index,\n",
    "                    figsize=(12, 16),\n",
    "                    image_name=None):\n",
    "    \"\"\"Wrapper function to visualize detections.\n",
    "\n",
    "    Args:\n",
    "        image_np: uint8 numpy array with shape (img_height, img_width, 3)\n",
    "        boxes: a numpy array of shape [N, 4]\n",
    "        classes: a numpy array of shape [N]. Note that class indices are 1-based,\n",
    "            and match the keys in the label map.\n",
    "        scores: a numpy array of shape [N] or None.  If scores=None, then\n",
    "            this function assumes that the boxes to be plotted are groundtruth\n",
    "            boxes and plot all boxes as black with no classes or scores.\n",
    "        category_index: a dict containing category dictionaries (each holding\n",
    "            category index `id` and category name `name`) keyed by category indices.\n",
    "        figsize: size for the figure.\n",
    "        image_name: a name for the image file.\n",
    "    \"\"\"\n",
    "    image_np_with_annotations = image_np.copy()\n",
    "    viz_utils.visualize_boxes_and_labels_on_image_array(\n",
    "        image_np_with_annotations,\n",
    "        boxes,\n",
    "        classes,\n",
    "        scores,\n",
    "        category_index,\n",
    "        use_normalized_coordinates=True,\n",
    "        min_score_thresh=0.8)\n",
    "    if image_name:\n",
    "        plt.imsave(image_name, image_np_with_annotations)\n",
    "    else:\n",
    "        fig, ax = plt.subplots(1, 1, figsize=figsize)\n",
    "        ax.imshow(image_np_with_annotations)"
   ]
  },
  {
   "cell_type": "code",
   "execution_count": null,
   "metadata": {},
   "outputs": [],
   "source": [
    "idx = np.random.choice(np.arange(len(annotations_dict)))\n",
    "img_path = annotations_dict[idx][\"img_path\"]\n",
    "bbox = annotations_dict[idx][\"bbox\"]\n",
    "cls = annotations_dict[idx][\"class\"]\n",
    "score = np.array([1.])"
   ]
  },
  {
   "cell_type": "code",
   "execution_count": null,
   "metadata": {},
   "outputs": [],
   "source": [
    "x = load_image_into_numpy_array(data_path / img_path)\n",
    "plot_detections(x, boxes=bbox, classes=cls, scores=score, category_index=category_index, figsize=(12, 16))"
   ]
  }
 ],
 "metadata": {
  "kernelspec": {
   "display_name": "Python 3",
   "language": "python",
   "name": "python3"
  },
  "language_info": {
   "codemirror_mode": {
    "name": "ipython",
    "version": 3
   },
   "file_extension": ".py",
   "mimetype": "text/x-python",
   "name": "python",
   "nbconvert_exporter": "python",
   "pygments_lexer": "ipython3",
   "version": "3.6.12"
  }
 },
 "nbformat": 4,
 "nbformat_minor": 4
}
